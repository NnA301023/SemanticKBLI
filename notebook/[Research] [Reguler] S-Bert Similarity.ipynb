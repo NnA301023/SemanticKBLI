{
 "cells": [
  {
   "cell_type": "code",
   "execution_count": 68,
   "metadata": {},
   "outputs": [],
   "source": [
    "# Load libraries \n",
    "import os\n",
    "import faiss\n",
    "import numpy as np\n",
    "import pandas as pd \n",
    "from time import time\n",
    "import seaborn as sns\n",
    "from typing import Union\n",
    "import matplotlib.pyplot as plt\n",
    "from sentence_transformers import SentenceTransformer"
   ]
  },
  {
   "cell_type": "code",
   "execution_count": 69,
   "metadata": {},
   "outputs": [],
   "source": [
    "# Set visualisation style\n",
    "plt.style.use(\"ggplot\")"
   ]
  },
  {
   "cell_type": "code",
   "execution_count": 70,
   "metadata": {},
   "outputs": [],
   "source": [
    "# Load pretrained model \n",
    "model = SentenceTransformer(\"msmarco-MiniLM-L-6-v3\")"
   ]
  },
  {
   "cell_type": "code",
   "execution_count": 71,
   "metadata": {},
   "outputs": [],
   "source": [
    "# Define required columns\n",
    "required_column = ['Nama Produk / Rincian', 'Kode KBLI', 'Jenis Produk']"
   ]
  },
  {
   "cell_type": "code",
   "execution_count": 122,
   "metadata": {},
   "outputs": [],
   "source": [
    "# Load training dataset - v2\n",
    "data_train = pd.read_excel(\"../dataset/v2/kbli_prediksi_jenis_training_set.xlsx\", usecols = required_column)\n",
    "data_test = pd.read_excel(\"../dataset/v2/kbli_prediksi_jenis_testing_set.xlsx\", usecols = required_column)"
   ]
  },
  {
   "cell_type": "code",
   "execution_count": 123,
   "metadata": {},
   "outputs": [
    {
     "data": {
      "text/html": [
       "<div>\n",
       "<style scoped>\n",
       "    .dataframe tbody tr th:only-of-type {\n",
       "        vertical-align: middle;\n",
       "    }\n",
       "\n",
       "    .dataframe tbody tr th {\n",
       "        vertical-align: top;\n",
       "    }\n",
       "\n",
       "    .dataframe thead th {\n",
       "        text-align: right;\n",
       "    }\n",
       "</style>\n",
       "<table border=\"1\" class=\"dataframe\">\n",
       "  <thead>\n",
       "    <tr style=\"text-align: right;\">\n",
       "      <th></th>\n",
       "      <th>Nama Produk / Rincian</th>\n",
       "      <th>Kode KBLI</th>\n",
       "      <th>Jenis Produk</th>\n",
       "    </tr>\n",
       "  </thead>\n",
       "  <tbody>\n",
       "    <tr>\n",
       "      <th>346</th>\n",
       "      <td>Ikan dan produk perikanan yang diawetkan, term...</td>\n",
       "      <td>10215, 10295, 10221,10222</td>\n",
       "      <td>Industri Pengolahan dan Pengawetan Ikan dan Bi...</td>\n",
       "    </tr>\n",
       "    <tr>\n",
       "      <th>356</th>\n",
       "      <td>Amonium fosfatidat (ammonium phosphatide)</td>\n",
       "      <td>20118,20119</td>\n",
       "      <td>Industri Kimia Dasar Organik Yang Menghasilkan...</td>\n",
       "    </tr>\n",
       "    <tr>\n",
       "      <th>497</th>\n",
       "      <td>Trinatrium sitrat (trisodium citrate)</td>\n",
       "      <td>20119, 20118</td>\n",
       "      <td>- 20119 (Industri Kimia Dasar Organik Lainnya)...</td>\n",
       "    </tr>\n",
       "    <tr>\n",
       "      <th>688</th>\n",
       "      <td>Ikan   dan   produk   perikanan   termasuk   m...</td>\n",
       "      <td>10219, 10299, 2125, 2126</td>\n",
       "      <td>Industri Pemindangan Ikan</td>\n",
       "    </tr>\n",
       "    <tr>\n",
       "      <th>756</th>\n",
       "      <td>Rumput  laut  eucheuma  olahan  (processed  eu...</td>\n",
       "      <td>03114, 03211, 03212, 10799</td>\n",
       "      <td>- 03114 (Penangkapan/Pengambilan Tumbuhan Air ...</td>\n",
       "    </tr>\n",
       "    <tr>\n",
       "      <th>763</th>\n",
       "      <td>Dulce de leche/susu caramel manis</td>\n",
       "      <td></td>\n",
       "      <td>Industri Pengolahan Produk dari Susu Lainnya</td>\n",
       "    </tr>\n",
       "    <tr>\n",
       "      <th>786</th>\n",
       "      <td>Produk buah untuk isi pastri</td>\n",
       "      <td>10733,10313</td>\n",
       "      <td>Industri Manisan Buah-buahan Dan Sayuran Kering</td>\n",
       "    </tr>\n",
       "  </tbody>\n",
       "</table>\n",
       "</div>"
      ],
      "text/plain": [
       "                                 Nama Produk / Rincian  \\\n",
       "346  Ikan dan produk perikanan yang diawetkan, term...   \n",
       "356          Amonium fosfatidat (ammonium phosphatide)   \n",
       "497              Trinatrium sitrat (trisodium citrate)   \n",
       "688  Ikan   dan   produk   perikanan   termasuk   m...   \n",
       "756  Rumput  laut  eucheuma  olahan  (processed  eu...   \n",
       "763                  Dulce de leche/susu caramel manis   \n",
       "786                       Produk buah untuk isi pastri   \n",
       "\n",
       "                      Kode KBLI  \\\n",
       "346   10215, 10295, 10221,10222   \n",
       "356                 20118,20119   \n",
       "497                20119, 20118   \n",
       "688    10219, 10299, 2125, 2126   \n",
       "756  03114, 03211, 03212, 10799   \n",
       "763                               \n",
       "786                 10733,10313   \n",
       "\n",
       "                                          Jenis Produk  \n",
       "346  Industri Pengolahan dan Pengawetan Ikan dan Bi...  \n",
       "356  Industri Kimia Dasar Organik Yang Menghasilkan...  \n",
       "497  - 20119 (Industri Kimia Dasar Organik Lainnya)...  \n",
       "688                          Industri Pemindangan Ikan  \n",
       "756  - 03114 (Penangkapan/Pengambilan Tumbuhan Air ...  \n",
       "763       Industri Pengolahan Produk dari Susu Lainnya  \n",
       "786    Industri Manisan Buah-buahan Dan Sayuran Kering  "
      ]
     },
     "execution_count": 123,
     "metadata": {},
     "output_type": "execute_result"
    }
   ],
   "source": [
    "# Clean KBLI and Jenis Produk\n",
    "data_train[data_train['Kode KBLI'].apply(lambda x: len(str(x).split(\",\")) > 1 or len(str(x).strip()) == 0)]"
   ]
  },
  {
   "cell_type": "code",
   "execution_count": 124,
   "metadata": {},
   "outputs": [
    {
     "data": {
      "text/plain": [
       "[{'Nama Produk / Rincian': 'Ikan dan produk perikanan yang diawetkan, termasuk ikan  dan  produk  perikanan  yang  dikalengkan  atau difermentasi,    termasuk    moluska,    krustase    dan ekinodermata',\n",
       "  'Kode KBLI': '10215, 10295, 10221,10222',\n",
       "  'Jenis Produk': 'Industri Pengolahan dan Pengawetan Ikan dan Biota Air (Bukan Udang) Dalam Kaleng'},\n",
       " {'Nama Produk / Rincian': 'Amonium fosfatidat (ammonium phosphatide)',\n",
       "  'Kode KBLI': '20118,20119',\n",
       "  'Jenis Produk': 'Industri Kimia Dasar Organik Yang Menghasilkan Bahan Kimia Khusus (termasuk bahan tambahan makanan),Industri Kimia Dasar Organik Lainnya'},\n",
       " {'Nama Produk / Rincian': 'Trinatrium sitrat (trisodium citrate)',\n",
       "  'Kode KBLI': '20119, 20118',\n",
       "  'Jenis Produk': '- 20119 (Industri Kimia Dasar Organik Lainnya)\\n- 20118 (Industri Kimia Dasar Organik Yang Menghasilkan Bahan Kimia Khusus (termasuk bahan tambahan makanan))\\nLebih cocok ke 20118'},\n",
       " {'Nama Produk / Rincian': 'Ikan   dan   produk   perikanan   termasuk   moluska, krustase, dan ekinodermata yang diolah menjadi pikel dan/atau direndam dalam larutan garam',\n",
       "  'Kode KBLI': '10219, 10299, 2125, 2126',\n",
       "  'Jenis Produk': 'Industri Pemindangan Ikan'},\n",
       " {'Nama Produk / Rincian': 'Rumput  laut  eucheuma  olahan  (processed  eucheuma seaweed)',\n",
       "  'Kode KBLI': '03114, 03211, 03212, 10799',\n",
       "  'Jenis Produk': '- 03114 (Penangkapan/Pengambilan Tumbuhan Air Di Laut)\\n- 03211 (Pembesaran Pisces/ Ikan Bersirip Laut)\\n- 03212 (Pembenihan Ikan Laut)\\n- 10799 (Industri Produk Makanan Lainnya)'},\n",
       " {'Nama Produk / Rincian': 'Dulce de leche/susu caramel manis',\n",
       "  'Kode KBLI': '   ',\n",
       "  'Jenis Produk': 'Industri Pengolahan Produk dari Susu Lainnya'},\n",
       " {'Nama Produk / Rincian': 'Produk buah untuk isi pastri',\n",
       "  'Kode KBLI': '10733,10313',\n",
       "  'Jenis Produk': 'Industri Manisan Buah-buahan Dan Sayuran Kering'}]"
      ]
     },
     "execution_count": 124,
     "metadata": {},
     "output_type": "execute_result"
    }
   ],
   "source": [
    "data_train[data_train['Kode KBLI'].apply(lambda x: len(str(x).split(\",\")) > 1 or len(str(x).strip()) == 0)].to_dict(\"records\")"
   ]
  },
  {
   "cell_type": "code",
   "execution_count": 125,
   "metadata": {},
   "outputs": [],
   "source": [
    "# Manual Replacement\n",
    "data_train.iloc[346]['Kode KBLI'] = 10221\n",
    "\n",
    "data_train.iloc[497]['Kode KBLI'] = 20118\n",
    "data_train.iloc[497]['Jenis Produk'] = \"Industri Kimia Dasar Organik Yang Menghasilkan Bahan Kimia Khusus (termasuk bahan tambahan makanan)\"\n",
    "\n",
    "data_train.iloc[688]['Kode KBLI'] = 10214\n",
    "\n",
    "data_train.iloc[756]['Kode KBLI'] = 10799 \n",
    "data_train.iloc[756]['Jenis Produk'] = \"Industri Produk Makanan Lainnya\"\n",
    "\n",
    "data_train.iloc[356]['Kode KBLI'] = 20118\n",
    "\n",
    "data_train.iloc[786]['Kode KBLI'] = 10733\n",
    "\n",
    "data_train.iloc[763]['Kode KBLI'] = 10590"
   ]
  },
  {
   "cell_type": "code",
   "execution_count": 126,
   "metadata": {},
   "outputs": [
    {
     "data": {
      "text/html": [
       "<div>\n",
       "<style scoped>\n",
       "    .dataframe tbody tr th:only-of-type {\n",
       "        vertical-align: middle;\n",
       "    }\n",
       "\n",
       "    .dataframe tbody tr th {\n",
       "        vertical-align: top;\n",
       "    }\n",
       "\n",
       "    .dataframe thead th {\n",
       "        text-align: right;\n",
       "    }\n",
       "</style>\n",
       "<table border=\"1\" class=\"dataframe\">\n",
       "  <thead>\n",
       "    <tr style=\"text-align: right;\">\n",
       "      <th></th>\n",
       "      <th>Nama Produk / Rincian</th>\n",
       "      <th>Kode KBLI</th>\n",
       "      <th>Jenis Produk</th>\n",
       "    </tr>\n",
       "  </thead>\n",
       "  <tbody>\n",
       "  </tbody>\n",
       "</table>\n",
       "</div>"
      ],
      "text/plain": [
       "Empty DataFrame\n",
       "Columns: [Nama Produk / Rincian, Kode KBLI, Jenis Produk]\n",
       "Index: []"
      ]
     },
     "execution_count": 126,
     "metadata": {},
     "output_type": "execute_result"
    }
   ],
   "source": [
    "# Validate Kode KBLI\n",
    "data_train[data_train['Kode KBLI'].apply(lambda x: len(str(x).split(\",\")) > 1)]"
   ]
  },
  {
   "cell_type": "code",
   "execution_count": 127,
   "metadata": {},
   "outputs": [],
   "source": [
    "# Convert Kode KBLI into \"int\"\n",
    "data_train['Kode KBLI'] = data_train['Kode KBLI'].astype(int)"
   ]
  },
  {
   "cell_type": "code",
   "execution_count": 128,
   "metadata": {},
   "outputs": [
    {
     "name": "stdout",
     "output_type": "stream",
     "text": [
      "<class 'pandas.core.frame.DataFrame'>\n",
      "RangeIndex: 1046 entries, 0 to 1045\n",
      "Data columns (total 3 columns):\n",
      " #   Column                 Non-Null Count  Dtype \n",
      "---  ------                 --------------  ----- \n",
      " 0   Nama Produk / Rincian  1046 non-null   object\n",
      " 1   Kode KBLI              1046 non-null   int32 \n",
      " 2   Jenis Produk           1046 non-null   object\n",
      "dtypes: int32(1), object(2)\n",
      "memory usage: 20.6+ KB\n"
     ]
    }
   ],
   "source": [
    "data_train.info()"
   ]
  },
  {
   "cell_type": "code",
   "execution_count": 129,
   "metadata": {},
   "outputs": [
    {
     "name": "stdout",
     "output_type": "stream",
     "text": [
      "<class 'pandas.core.frame.DataFrame'>\n",
      "RangeIndex: 262 entries, 0 to 261\n",
      "Data columns (total 3 columns):\n",
      " #   Column                 Non-Null Count  Dtype \n",
      "---  ------                 --------------  ----- \n",
      " 0   Nama Produk / Rincian  262 non-null    object\n",
      " 1   Kode KBLI              262 non-null    int64 \n",
      " 2   Jenis Produk           262 non-null    object\n",
      "dtypes: int64(1), object(2)\n",
      "memory usage: 6.3+ KB\n"
     ]
    }
   ],
   "source": [
    "data_test.info()"
   ]
  },
  {
   "cell_type": "code",
   "execution_count": 148,
   "metadata": {},
   "outputs": [],
   "source": [
    "# Concat dataset and remove duplicate\n",
    "data_train = pd.concat([data_train, data_test]).drop_duplicates().reset_index()"
   ]
  },
  {
   "cell_type": "code",
   "execution_count": 149,
   "metadata": {},
   "outputs": [],
   "source": [
    "# Create training dataset into hashmaps\n",
    "data_train_maps = data_train.to_dict(\"records\")"
   ]
  },
  {
   "cell_type": "code",
   "execution_count": 150,
   "metadata": {},
   "outputs": [
    {
     "data": {
      "text/html": [
       "<div>\n",
       "<style scoped>\n",
       "    .dataframe tbody tr th:only-of-type {\n",
       "        vertical-align: middle;\n",
       "    }\n",
       "\n",
       "    .dataframe tbody tr th {\n",
       "        vertical-align: top;\n",
       "    }\n",
       "\n",
       "    .dataframe thead th {\n",
       "        text-align: right;\n",
       "    }\n",
       "</style>\n",
       "<table border=\"1\" class=\"dataframe\">\n",
       "  <thead>\n",
       "    <tr style=\"text-align: right;\">\n",
       "      <th></th>\n",
       "      <th>index</th>\n",
       "      <th>Nama Produk / Rincian</th>\n",
       "      <th>Kode KBLI</th>\n",
       "      <th>Jenis Produk</th>\n",
       "    </tr>\n",
       "  </thead>\n",
       "  <tbody>\n",
       "    <tr>\n",
       "      <th>0</th>\n",
       "      <td>0</td>\n",
       "      <td>Keju edam</td>\n",
       "      <td>10590</td>\n",
       "      <td>Industri Pengolahan Produk dari Susu Lainnya</td>\n",
       "    </tr>\n",
       "    <tr>\n",
       "      <th>1</th>\n",
       "      <td>1</td>\n",
       "      <td>Kaldu dan konsome</td>\n",
       "      <td>10799</td>\n",
       "      <td>Industri Produk Makanan Lainnya</td>\n",
       "    </tr>\n",
       "    <tr>\n",
       "      <th>2</th>\n",
       "      <td>2</td>\n",
       "      <td>Paprika bubuk</td>\n",
       "      <td>10772</td>\n",
       "      <td>Industri Bumbu Masak Dan Penyedap Masakan</td>\n",
       "    </tr>\n",
       "    <tr>\n",
       "      <th>3</th>\n",
       "      <td>3</td>\n",
       "      <td>Sukrosa asetat isobutirat (sucrose acetate iso...</td>\n",
       "      <td>10623</td>\n",
       "      <td>Industri Glukosa Dan Sejenisnya</td>\n",
       "    </tr>\n",
       "    <tr>\n",
       "      <th>4</th>\n",
       "      <td>4</td>\n",
       "      <td>Tepung bakso</td>\n",
       "      <td>10614</td>\n",
       "      <td>Industri Tepung Campuran dan Adonan Tepung</td>\n",
       "    </tr>\n",
       "  </tbody>\n",
       "</table>\n",
       "</div>"
      ],
      "text/plain": [
       "   index                              Nama Produk / Rincian  Kode KBLI  \\\n",
       "0      0                                          Keju edam      10590   \n",
       "1      1                                  Kaldu dan konsome      10799   \n",
       "2      2                                      Paprika bubuk      10772   \n",
       "3      3  Sukrosa asetat isobutirat (sucrose acetate iso...      10623   \n",
       "4      4                                       Tepung bakso      10614   \n",
       "\n",
       "                                   Jenis Produk  \n",
       "0  Industri Pengolahan Produk dari Susu Lainnya  \n",
       "1               Industri Produk Makanan Lainnya  \n",
       "2     Industri Bumbu Masak Dan Penyedap Masakan  \n",
       "3               Industri Glukosa Dan Sejenisnya  \n",
       "4    Industri Tepung Campuran dan Adonan Tepung  "
      ]
     },
     "execution_count": 150,
     "metadata": {},
     "output_type": "execute_result"
    }
   ],
   "source": [
    "# Overview dataset\n",
    "data_train.head()"
   ]
  },
  {
   "cell_type": "code",
   "execution_count": 151,
   "metadata": {},
   "outputs": [
    {
     "data": {
      "text/plain": [
       "(1308, 4)"
      ]
     },
     "execution_count": 151,
     "metadata": {},
     "output_type": "execute_result"
    }
   ],
   "source": [
    "# Check dimension\n",
    "data_train.shape"
   ]
  },
  {
   "cell_type": "code",
   "execution_count": 152,
   "metadata": {},
   "outputs": [
    {
     "data": {
      "text/plain": [
       "index                    0\n",
       "Nama Produk / Rincian    0\n",
       "Kode KBLI                0\n",
       "Jenis Produk             0\n",
       "dtype: int64"
      ]
     },
     "execution_count": 152,
     "metadata": {},
     "output_type": "execute_result"
    }
   ],
   "source": [
    "# Overview missing values\n",
    "data_train.isna().sum()"
   ]
  },
  {
   "cell_type": "code",
   "execution_count": 153,
   "metadata": {},
   "outputs": [],
   "source": [
    "# Overview Sentence Length\n",
    "sentence_length = data_train['Nama Produk / Rincian'].apply(\n",
    "    lambda sentence: len(sentence.split())\n",
    ").tolist()\n",
    "max_sentence_length = np.round(np.mean(sentence_length) + np.std(sentence_length)).astype(\"int\")"
   ]
  },
  {
   "cell_type": "code",
   "execution_count": 154,
   "metadata": {},
   "outputs": [
    {
     "name": "stderr",
     "output_type": "stream",
     "text": [
      "C:\\Users\\alif\\anaconda3\\envs\\test\\lib\\site-packages\\seaborn\\distributions.py:2619: FutureWarning: `distplot` is a deprecated function and will be removed in a future version. Please adapt your code to use either `displot` (a figure-level function with similar flexibility) or `histplot` (an axes-level function for histograms).\n",
      "  warnings.warn(msg, FutureWarning)\n"
     ]
    },
    {
     "data": {
      "image/png": "[encoded data removed]",
      "text/plain": [
       "<Figure size 1440x360 with 1 Axes>"
      ]
     },
     "metadata": {},
     "output_type": "display_data"
    }
   ],
   "source": [
    "# Visualize density of sentence length distribution\n",
    "plt.figure(figsize = (20, 5))\n",
    "sns.distplot(sentence_length, hist = True, kde = True, color = \"blue\", label = \"Sentence Length\")\n",
    "plt.axvline(x = max_sentence_length, color = \"k\", linestyle = \"--\", label = \"Max Sentence Length\")\n",
    "plt.title(\"Sentence Length Distribution\")\n",
    "plt.legend()\n",
    "plt.show()"
   ]
  },
  {
   "cell_type": "code",
   "execution_count": 155,
   "metadata": {},
   "outputs": [
    {
     "data": {
      "application/vnd.jupyter.widget-view+json": {
       "model_id": "55db8b1ce5574daca2a1d6f44170e511",
       "version_major": 2,
       "version_minor": 0
      },
      "text/plain": [
       "Batches:   0%|          | 0/41 [00:00<?, ?it/s]"
      ]
     },
     "metadata": {},
     "output_type": "display_data"
    }
   ],
   "source": [
    "# Convert Embedding\n",
    "encoded_sentence = model.encode(data_train['Nama Produk / Rincian'].tolist(), show_progress_bar = True)\n",
    "encoded_sentence = np.asarray(encoded_sentence.astype(\"float16\"))"
   ]
  },
  {
   "cell_type": "code",
   "execution_count": 156,
   "metadata": {},
   "outputs": [
    {
     "data": {
      "text/plain": [
       "(1308, 384)"
      ]
     },
     "execution_count": 156,
     "metadata": {},
     "output_type": "execute_result"
    }
   ],
   "source": [
    "# Check dimension\n",
    "encoded_sentence.shape"
   ]
  },
  {
   "cell_type": "code",
   "execution_count": 157,
   "metadata": {},
   "outputs": [],
   "source": [
    "# Create & Insert Index Faiss\n",
    "index = faiss.IndexIDMap(faiss.IndexFlatIP(384))\n",
    "index.add_with_ids(encoded_sentence, np.array(range(0, len(data_train))))\n",
    "faiss.write_index(index, \"corpus/reguler.index\")"
   ]
  },
  {
   "cell_type": "code",
   "execution_count": 158,
   "metadata": {},
   "outputs": [],
   "source": [
    "# Create function to indexing results\n",
    "def fetch_product(idx: int, query: str, df: pd.DataFrame = data_train_maps):\n",
    "    result = {}\n",
    "    result[\"query\"] = query\n",
    "    try:\n",
    "        info = df[idx]\n",
    "        result[\"nama_produk_terdekat\"]    = info['Nama Produk / Rincian']\n",
    "        result[\"prediksi_jenis\"] = info[\"Jenis Produk\"]\n",
    "        result[\"prediksi_kbli\"]  = info[\"Kode KBLI\"]\n",
    "        result[\"message\"]        = \"Prediction Success\"\n",
    "    except IndexError:\n",
    "        result[\"nama_produk_terdekat\"]    = \"\"\n",
    "        result[\"prediksi_jenis\"] = \"\"\n",
    "        result[\"prediksi_kbli\"]  = \"\"\n",
    "        result[\"message\"]        = \"Prediction Failed \"\n",
    "    return result\n",
    "\n",
    "def search(query: str, index_vector: object = index, model_embedding: object = model, mode: Union[\"Pred\", \"Eval\"] = \"Pred\", column_test: str = None):\n",
    "    query_vector = model_embedding.encode([query])\n",
    "    selected_idx = index_vector.search(query_vector, k = 1)\n",
    "    selected_idx = selected_idx[1].tolist()[0][0]\n",
    "    if mode == \"Pred\":\n",
    "        result = [fetch_product(selected_idx, query)]\n",
    "    if mode == \"Eval\":\n",
    "        if column_test is None:\n",
    "            raise Exception(f\"'column_test' should have parameter is using 'Eval' value in parameter 'mode'\")\n",
    "        result = data_train[column_test][selected_idx]\n",
    "    return result"
   ]
  },
  {
   "cell_type": "code",
   "execution_count": 159,
   "metadata": {},
   "outputs": [
    {
     "name": "stdout",
     "output_type": "stream",
     "text": [
      "[{'query': 'Kacang', 'nama_produk_terdekat': 'Kacang goyang', 'prediksi_jenis': 'Industri Pengolahan dan Pengawetan Kedelai dan Kacang-kacangan Lainnya Selain Tahu dan Tempe', 'prediksi_kbli': 10393, 'message': 'Prediction Success'}]\n",
      "CPU times: total: 0 ns\n",
      "Wall time: 16.7 ms\n"
     ]
    }
   ],
   "source": [
    "%%time\n",
    "# Test result\n",
    "nama_produk_test = \"Kacang\"\n",
    "result_prediction = search(nama_produk_test)\n",
    "\n",
    "print(result_prediction)"
   ]
  },
  {
   "cell_type": "code",
   "execution_count": 160,
   "metadata": {},
   "outputs": [],
   "source": [
    "# Load libraries \n",
    "from tqdm import tqdm\n",
    "from sklearn.metrics import accuracy_score"
   ]
  },
  {
   "cell_type": "code",
   "execution_count": 161,
   "metadata": {},
   "outputs": [],
   "source": [
    "# Load testing dataset - v2\n",
    "data_test = pd.read_excel(\"../dataset/v2/kbli_prediksi_jenis_testing_set.xlsx\")"
   ]
  },
  {
   "cell_type": "code",
   "execution_count": 162,
   "metadata": {},
   "outputs": [
    {
     "data": {
      "text/plain": [
       "(262, 3)"
      ]
     },
     "execution_count": 162,
     "metadata": {},
     "output_type": "execute_result"
    }
   ],
   "source": [
    "# Check dimension\n",
    "data_test.shape"
   ]
  },
  {
   "cell_type": "code",
   "execution_count": 163,
   "metadata": {},
   "outputs": [
    {
     "data": {
      "text/html": [
       "<div>\n",
       "<style scoped>\n",
       "    .dataframe tbody tr th:only-of-type {\n",
       "        vertical-align: middle;\n",
       "    }\n",
       "\n",
       "    .dataframe tbody tr th {\n",
       "        vertical-align: top;\n",
       "    }\n",
       "\n",
       "    .dataframe thead th {\n",
       "        text-align: right;\n",
       "    }\n",
       "</style>\n",
       "<table border=\"1\" class=\"dataframe\">\n",
       "  <thead>\n",
       "    <tr style=\"text-align: right;\">\n",
       "      <th></th>\n",
       "      <th>Nama Produk / Rincian</th>\n",
       "      <th>Kode KBLI</th>\n",
       "      <th>Jenis Produk</th>\n",
       "    </tr>\n",
       "  </thead>\n",
       "  <tbody>\n",
       "    <tr>\n",
       "      <th>0</th>\n",
       "      <td>Chutney mangga (mango chutney)</td>\n",
       "      <td>10399</td>\n",
       "      <td>Industri Pengolahan dan Pengawetan Lainnya Bua...</td>\n",
       "    </tr>\n",
       "    <tr>\n",
       "      <th>1</th>\n",
       "      <td>Minyak masak atau minyak sayur (cooking oil)</td>\n",
       "      <td>10411</td>\n",
       "      <td>Industri Minyak Mentah dan Lemak Nabati</td>\n",
       "    </tr>\n",
       "    <tr>\n",
       "      <th>2</th>\n",
       "      <td>Asinan jahe</td>\n",
       "      <td>10311</td>\n",
       "      <td>Industri Pengasinan Buah-buahan Dan Sayuran</td>\n",
       "    </tr>\n",
       "    <tr>\n",
       "      <th>3</th>\n",
       "      <td>Selongsong sosis kolagen</td>\n",
       "      <td>10799</td>\n",
       "      <td>Industri Produk Makanan Lainnya</td>\n",
       "    </tr>\n",
       "    <tr>\n",
       "      <th>4</th>\n",
       "      <td>Buah dalam kemasan</td>\n",
       "      <td>10399</td>\n",
       "      <td>Industri Pengolahan dan Pengawetan Lainnya Bua...</td>\n",
       "    </tr>\n",
       "  </tbody>\n",
       "</table>\n",
       "</div>"
      ],
      "text/plain": [
       "                          Nama Produk / Rincian  Kode KBLI  \\\n",
       "0                Chutney mangga (mango chutney)      10399   \n",
       "1  Minyak masak atau minyak sayur (cooking oil)      10411   \n",
       "2                                   Asinan jahe      10311   \n",
       "3                      Selongsong sosis kolagen      10799   \n",
       "4                            Buah dalam kemasan      10399   \n",
       "\n",
       "                                        Jenis Produk  \n",
       "0  Industri Pengolahan dan Pengawetan Lainnya Bua...  \n",
       "1            Industri Minyak Mentah dan Lemak Nabati  \n",
       "2        Industri Pengasinan Buah-buahan Dan Sayuran  \n",
       "3                    Industri Produk Makanan Lainnya  \n",
       "4  Industri Pengolahan dan Pengawetan Lainnya Bua...  "
      ]
     },
     "execution_count": 163,
     "metadata": {},
     "output_type": "execute_result"
    }
   ],
   "source": [
    "# Overview dataset\n",
    "data_test.head()"
   ]
  },
  {
   "cell_type": "code",
   "execution_count": 164,
   "metadata": {},
   "outputs": [
    {
     "name": "stderr",
     "output_type": "stream",
     "text": [
      "Predictions: 100%|███████████████████████████████████████████████████████████████████| 262/262 [00:03<00:00, 72.09it/s]\n",
      "Predictions: 100%|███████████████████████████████████████████████████████████████████| 262/262 [00:03<00:00, 70.74it/s]\n"
     ]
    }
   ],
   "source": [
    "# Apply prediction\n",
    "predictions_jenis_produk = list(map(lambda x: search(x, mode = \"Eval\", column_test = \"Jenis Produk\"), tqdm(data_test['Nama Produk / Rincian'], desc = \"Predictions\")))\n",
    "predictions_kbli_produk  = list(map(lambda x: search(x, mode = \"Eval\", column_test = \"Kode KBLI\"), tqdm(data_test['Nama Produk / Rincian'], desc = \"Predictions\")))"
   ]
  },
  {
   "cell_type": "code",
   "execution_count": 165,
   "metadata": {},
   "outputs": [
    {
     "name": "stdout",
     "output_type": "stream",
     "text": [
      "Acc. Jenis Produk: 0.9847328244274809\n",
      "Acc. Kode  KBLI  : 0.9847328244274809\n"
     ]
    }
   ],
   "source": [
    "# Evaluate Score\n",
    "print(f\"Acc. Jenis Produk: {accuracy_score(data_test['Jenis Produk'].tolist(), predictions_jenis_produk)}\")\n",
    "print(f\"Acc. Kode  KBLI  : {accuracy_score(data_test['Kode KBLI'].tolist(), predictions_kbli_produk)}\")"
   ]
  },
  {
   "cell_type": "code",
   "execution_count": 166,
   "metadata": {},
   "outputs": [],
   "source": [
    "# Save data_train as json\n",
    "import json\n",
    "json.dump(data_train_maps, open(\"corpus/reguler.json\", \"w\"), indent = 4)"
   ]
  }
 ],
 "metadata": {
  "kernelspec": {
   "display_name": "Python 3 (ipykernel)",
   "language": "python",
   "name": "python3"
  },
  "language_info": {
   "codemirror_mode": {
    "name": "ipython",
    "version": 3
   },
   "file_extension": ".py",
   "mimetype": "text/x-python",
   "name": "python",
   "nbconvert_exporter": "python",
   "pygments_lexer": "ipython3",
   "version": "3.9.7"
  },
  "orig_nbformat": 4
 },
 "nbformat": 4,
 "nbformat_minor": 2
}
